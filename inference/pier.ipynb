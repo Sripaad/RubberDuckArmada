{
 "cells": [
  {
   "cell_type": "code",
   "execution_count": 1,
   "metadata": {},
   "outputs": [
    {
     "data": {
      "application/vnd.jupyter.widget-view+json": {
       "model_id": "49613829735447aabd5eedd86011900c",
       "version_major": 2,
       "version_minor": 0
      },
      "text/plain": [
       "Loading checkpoint shards:   0%|          | 0/4 [00:00<?, ?it/s]"
      ]
     },
     "metadata": {},
     "output_type": "display_data"
    },
    {
     "data": {
      "application/vnd.jupyter.widget-view+json": {
       "model_id": "789913ae877843cba4f5967b33012b9e",
       "version_major": 2,
       "version_minor": 0
      },
      "text/plain": [
       "generation_config.json:   0%|          | 0.00/127 [00:00<?, ?B/s]"
      ]
     },
     "metadata": {},
     "output_type": "display_data"
    },
    {
     "data": {
      "application/vnd.jupyter.widget-view+json": {
       "model_id": "0f50e8782a924990bc515d38678ad390",
       "version_major": 2,
       "version_minor": 0
      },
      "text/plain": [
       "tokenizer_config.json:   0%|          | 0.00/50.9k [00:00<?, ?B/s]"
      ]
     },
     "metadata": {},
     "output_type": "display_data"
    },
    {
     "data": {
      "application/vnd.jupyter.widget-view+json": {
       "model_id": "94b551f4e2364ea2b9ad0132d1f1be1a",
       "version_major": 2,
       "version_minor": 0
      },
      "text/plain": [
       "tokenization_minicpmv_fast.py:   0%|          | 0.00/1.24k [00:00<?, ?B/s]"
      ]
     },
     "metadata": {},
     "output_type": "display_data"
    },
    {
     "name": "stderr",
     "output_type": "stream",
     "text": [
      "A new version of the following files was downloaded from https://huggingface.co/ContactDoctor/Bio-Medical-MultiModal-Llama-3-8B-V1:\n",
      "- tokenization_minicpmv_fast.py\n",
      ". Make sure to double-check they do not contain any added malicious code. To avoid downloading new versions of the code file, you can pin a revision.\n"
     ]
    },
    {
     "data": {
      "application/vnd.jupyter.widget-view+json": {
       "model_id": "a7fa6f82129448d18ca4e270eec13b14",
       "version_major": 2,
       "version_minor": 0
      },
      "text/plain": [
       "tokenizer.json:   0%|          | 0.00/9.08M [00:00<?, ?B/s]"
      ]
     },
     "metadata": {},
     "output_type": "display_data"
    },
    {
     "data": {
      "application/vnd.jupyter.widget-view+json": {
       "model_id": "f4c7423e7eea42198a007ce40c02c7af",
       "version_major": 2,
       "version_minor": 0
      },
      "text/plain": [
       "special_tokens_map.json:   0%|          | 0.00/459 [00:00<?, ?B/s]"
      ]
     },
     "metadata": {},
     "output_type": "display_data"
    }
   ],
   "source": []
  },
  {
   "cell_type": "code",
   "execution_count": 19,
   "metadata": {},
   "outputs": [
    {
     "name": "stdout",
     "output_type": "stream",
     "text": [
      "Unfortunately, I cannot see the image you are referring to. However, based on the information provided, it appears that you are asked to evaluate the prognosis and recommend potential treatment options for a patient based on an ultrasound analysis. The key findings from the earlier analysis include a 4.5 x 2.7 cm mass with irregular borders and posterior enhancement. You should maintain a professional tone and focus on the potential conditions and further diagnostic needs. The output should be a concise prognosis and treatment report in markdown format, following the guidelines provided."
     ]
    }
   ],
   "source": []
  },
  {
   "cell_type": "code",
   "execution_count": 9,
   "metadata": {},
   "outputs": [
    {
     "data": {
      "text/plain": [
       "'Modality: ultrasound\\nOrgan/System: breast tissue\\n\\nAnalysis: The ultrasound image shows a hypoechoic, predominantly well-defined mass with some irregular borders. The mass has an echogenic, mostly smooth, and poorly defined internal structure. The mass is relatively homogeneous in texture, and no posterior acoustic shadow is seen.\\n\\nAbnormalities: There is a solitary mass with a size of approximately 3 x 2.5 cm in the lower quadrant of the right breast.\\n\\nPrognosis: Based on the ultrasound findings, the mass appears to be benign, but further evaluation with a biopsy is recommended to confirm the diagnosis and determine if any treatment is necessary.\\n\\nTreatment Recommendations: A biopsy should be performed to sample the mass for histological examination. If the biopsy confirms a benign diagnosis, regular follow-up monitoring may be sufficient. If the mass is found to be malignant or suspicious, appropriate treatment options such as surgery, radiation therapy, or a combination thereof may be considered.'"
      ]
     },
     "execution_count": 9,
     "metadata": {},
     "output_type": "execute_result"
    }
   ],
   "source": [
    "generated_text"
   ]
  },
  {
   "cell_type": "code",
   "execution_count": null,
   "metadata": {},
   "outputs": [],
   "source": []
  }
 ],
 "metadata": {
  "kernelspec": {
   "display_name": "pond",
   "language": "python",
   "name": "python3"
  },
  "language_info": {
   "codemirror_mode": {
    "name": "ipython",
    "version": 3
   },
   "file_extension": ".py",
   "mimetype": "text/x-python",
   "name": "python",
   "nbconvert_exporter": "python",
   "pygments_lexer": "ipython3",
   "version": "3.12.7"
  }
 },
 "nbformat": 4,
 "nbformat_minor": 2
}
